{
 "cells": [
  {
   "cell_type": "code",
   "execution_count": 2,
   "id": "0d9ddce1-9f7d-4877-95a0-a071393c9bc4",
   "metadata": {
    "scrolled": true
   },
   "outputs": [
    {
     "name": "stdout",
     "output_type": "stream",
     "text": [
      "neal deadlift 0\n",
      "brian deadlift 0\n",
      "brian bench 0\n",
      "tejas bench 0\n",
      "novel bench 0\n",
      "neal bench 0\n",
      "brian bench 1\n",
      "brian bench 2\n",
      "tejas bench 1\n",
      "novel bench 1\n",
      "novel bench 2\n",
      "brian bench 3\n",
      "tejas bench 2\n",
      "brian bench 4\n",
      "tejas bench 3\n",
      "neal bench 1\n",
      "brian bench 5\n",
      "novel bench 3\n",
      "brian bench 6\n",
      "brian squat 0\n",
      "novel squat 0\n",
      "brian squat 1\n",
      "brian squat 2\n",
      "tejas squat 0\n",
      "novel squat 1\n",
      "brian squat 3\n",
      "novel squat 2\n",
      "novel squat 3\n",
      "neal squat 0\n",
      "brian squat 4\n",
      "{'bench': {'brian': 7, 'novel': 4, 'tejas': 4, 'neal': 2}, 'squat': {'brian': 5, 'novel': 4, 'tejas': 1, 'neal': 1}, 'deadlift': {'brian': 1, 'novel': 0, 'tejas': 0, 'neal': 1}}\n",
      "                           relativeAltitude  seconds_elapsed    pressure  \\\n",
      "name  workout  set_number                                                  \n",
      "brian bench    0                       0.00         7.011909  100.453018   \n",
      "               0                       0.00         7.867835  100.453293   \n",
      "               0                      -0.03        10.968242  100.454849   \n",
      "               0                      -0.04        46.088523  100.455017   \n",
      "               0                        NaN              NaN         NaN   \n",
      "...                                     ...              ...         ...   \n",
      "neal  deadlift 0                        NaN        40.367102         NaN   \n",
      "               0                        NaN        40.377064         NaN   \n",
      "               0                        NaN        40.387027         NaN   \n",
      "               0                        NaN        40.396989         NaN   \n",
      "               0                        NaN        40.406951         NaN   \n",
      "\n",
      "                                   sensor          time  \\\n",
      "name  workout  set_number                                 \n",
      "brian bench    0           WatchBarometer  1.726273e+18   \n",
      "               0           WatchBarometer  1.726273e+18   \n",
      "               0           WatchBarometer  1.726273e+18   \n",
      "               0           WatchBarometer  1.726273e+18   \n",
      "               0                 Metadata           NaN   \n",
      "...                                   ...           ...   \n",
      "neal  deadlift 0              WristMotion  1.726275e+18   \n",
      "               0              WristMotion  1.726275e+18   \n",
      "               0              WristMotion  1.726275e+18   \n",
      "               0              WristMotion  1.726275e+18   \n",
      "               0              WristMotion  1.726275e+18   \n",
      "\n",
      "                                                      device id  version  \\\n",
      "name  workout  set_number                                                  \n",
      "brian bench    0                                            NaN      NaN   \n",
      "               0                                            NaN      NaN   \n",
      "               0                                            NaN      NaN   \n",
      "               0                                            NaN      NaN   \n",
      "               0           250fad1f-c20d-4511-bbbd-b39f8226ca7f      3.0   \n",
      "...                                                         ...      ...   \n",
      "neal  deadlift 0                                            NaN      NaN   \n",
      "               0                                            NaN      NaN   \n",
      "               0                                            NaN      NaN   \n",
      "               0                                            NaN      NaN   \n",
      "               0                                            NaN      NaN   \n",
      "\n",
      "                             device name sampleRateMs  recording epoch time  \\\n",
      "name  workout  set_number                                                     \n",
      "brian bench    0                     NaN          NaN                   NaN   \n",
      "               0                     NaN          NaN                   NaN   \n",
      "               0                     NaN          NaN                   NaN   \n",
      "               0                     NaN          NaN                   NaN   \n",
      "               0           iPhone 15 Pro       10|10|          1.726273e+12   \n",
      "...                                  ...          ...                   ...   \n",
      "neal  deadlift 0                     NaN          NaN                   NaN   \n",
      "               0                     NaN          NaN                   NaN   \n",
      "               0                     NaN          NaN                   NaN   \n",
      "               0                     NaN          NaN                   NaN   \n",
      "               0                     NaN          NaN                   NaN   \n",
      "\n",
      "                           ...  gravityX rotationRateY rotationRateZ  \\\n",
      "name  workout  set_number  ...                                         \n",
      "brian bench    0           ...       NaN           NaN           NaN   \n",
      "               0           ...       NaN           NaN           NaN   \n",
      "               0           ...       NaN           NaN           NaN   \n",
      "               0           ...       NaN           NaN           NaN   \n",
      "               0           ...       NaN           NaN           NaN   \n",
      "...                        ...       ...           ...           ...   \n",
      "neal  deadlift 0           ... -0.155445     -0.136218      0.225113   \n",
      "               0           ... -0.158028     -0.030574      0.185833   \n",
      "               0           ... -0.159450     -0.033108     -0.013426   \n",
      "               0           ... -0.160570     -0.086694     -0.131515   \n",
      "               0           ... -0.161775     -0.108576     -0.167360   \n",
      "\n",
      "                           gravityY  quaternionX quaternionY  quaternionZ  \\\n",
      "name  workout  set_number                                                   \n",
      "brian bench    0                NaN          NaN         NaN          NaN   \n",
      "               0                NaN          NaN         NaN          NaN   \n",
      "               0                NaN          NaN         NaN          NaN   \n",
      "               0                NaN          NaN         NaN          NaN   \n",
      "               0                NaN          NaN         NaN          NaN   \n",
      "...                             ...          ...         ...          ...   \n",
      "neal  deadlift 0          -0.285277     0.058793   -0.153836    -0.640562   \n",
      "               0          -0.283635     0.057485   -0.154223    -0.639714   \n",
      "               0          -0.281787     0.056375   -0.154124    -0.639400   \n",
      "               0          -0.279769     0.055159   -0.153900    -0.639775   \n",
      "               0          -0.278024     0.053956   -0.153825    -0.640460   \n",
      "\n",
      "                           gravityZ  accelerationX  rotationRateX  \n",
      "name  workout  set_number                                          \n",
      "brian bench    0                NaN            NaN            NaN  \n",
      "               0                NaN            NaN            NaN  \n",
      "               0                NaN            NaN            NaN  \n",
      "               0                NaN            NaN            NaN  \n",
      "               0                NaN            NaN            NaN  \n",
      "...                             ...            ...            ...  \n",
      "neal  deadlift 0          -0.945756      -0.005520      -0.049586  \n",
      "               0          -0.945822      -0.021613      -0.081977  \n",
      "               0          -0.946135      -0.076863      -0.122253  \n",
      "               0          -0.946545      -0.071424      -0.160750  \n",
      "               0          -0.946854       0.000368      -0.190712  \n",
      "\n",
      "[101110 rows x 29 columns]\n"
     ]
    }
   ],
   "source": [
    "import tensorflow as tf\n",
    "import numpy as np \n",
    "import pandas as pd \n",
    "from data_loader import bench, squat, deadlift"
   ]
  },
  {
   "cell_type": "code",
   "execution_count": 14,
   "id": "3497d1bc-7a0a-4e58-b769-934688aa6d5f",
   "metadata": {},
   "outputs": [
    {
     "name": "stdout",
     "output_type": "stream",
     "text": [
      "Output: tf.Tensor([0. 0. 0.], shape=(3,), dtype=float32)\n"
     ]
    }
   ],
   "source": [
    "class RepCount(tf.keras.Model):\n",
    "    def __init__(self):\n",
    "        super(RepCount, self).__init__()\n",
    "        self.values = tf.constant([0], dtype=tf.float32)\n",
    "\n",
    "    def heaviside_custom(self, x, values):\n",
    "        ones = tf.ones_like(x)\n",
    "        zeros = tf.zeros_like(x)\n",
    "        return tf.where(x > 0, ones, tf.where(x < 0, zeros, values))\n",
    "\n",
    "    def call(self, tens):\n",
    "        t = self.heaviside_custom(tens, self.values)\n",
    "        b = t[1:] - t[:-1]\n",
    "        mask = tf.reduce_any(tf.not_equal(b, 0), axis=1)\n",
    "        b = tf.boolean_mask(b, mask)\n",
    "        b = tf.where(tf.equal(b, -1), tf.zeros_like(b), b)\n",
    "        return tf.reduce_sum(b, axis=0)\n",
    "\n",
    "def preprocessing(dummy_input):\n",
    "    padding = np.zeros((128 - dummy_input.shape[0] % 128, dummy_input.shape[1]))\n",
    "    dummy_input = np.concatenate([dummy_input, padding], axis=0)\n",
    "    t = np.mean(dummy_input, axis=0) \n",
    "    dummy_input = dummy_input - t\n",
    "    dummy_input_2 = np.reshape(dummy_input, (-1, 128, 3))\n",
    "    dummy_input_3 = tf.constant(dummy_input_2, dtype=tf.float32)\n",
    "    return dummy_input_3\n",
    "\n",
    "model = RepCount()\n",
    "dummy_input = preprocessing((bench[1][['gravityX', 'gravityY', 'gravityZ']]).dropna().to_numpy())\n",
    "inp = dummy_input[0]\n",
    "output = model(inp)\n",
    "print(\"Output:\", output)"
   ]
  },
  {
   "cell_type": "code",
   "execution_count": 15,
   "id": "a968b78f-cd1c-43c6-b48a-5c0f07d4003c",
   "metadata": {},
   "outputs": [
    {
     "name": "stdout",
     "output_type": "stream",
     "text": [
      "INFO:tensorflow:Assets written to: models/model2/assets\n"
     ]
    },
    {
     "name": "stderr",
     "output_type": "stream",
     "text": [
      "INFO:tensorflow:Assets written to: models/model2/assets\n"
     ]
    }
   ],
   "source": [
    "saved_model_dir = \"models/model2\"\n",
    "tf.saved_model.save(model, saved_model_dir)\n"
   ]
  },
  {
   "cell_type": "code",
   "execution_count": 16,
   "id": "7ee72049-627b-495a-9dcb-24f92281b18f",
   "metadata": {},
   "outputs": [
    {
     "name": "stderr",
     "output_type": "stream",
     "text": [
      "W0000 00:00:1741833178.329718 7876146 tf_tfl_flatbuffer_helpers.cc:365] Ignored output_format.\n",
      "W0000 00:00:1741833178.329746 7876146 tf_tfl_flatbuffer_helpers.cc:368] Ignored drop_control_dependency.\n",
      "2025-03-12 19:32:58.329928: I tensorflow/cc/saved_model/reader.cc:83] Reading SavedModel from: models/model2\n",
      "2025-03-12 19:32:58.330084: I tensorflow/cc/saved_model/reader.cc:52] Reading meta graph with tags { serve }\n",
      "2025-03-12 19:32:58.330088: I tensorflow/cc/saved_model/reader.cc:147] Reading SavedModel debug info (if present) from: models/model2\n",
      "2025-03-12 19:32:58.331091: I tensorflow/cc/saved_model/loader.cc:236] Restoring SavedModel bundle.\n",
      "2025-03-12 19:32:58.334205: I tensorflow/cc/saved_model/loader.cc:220] Running initialization op on SavedModel bundle at path: models/model2\n",
      "2025-03-12 19:32:58.336382: I tensorflow/cc/saved_model/loader.cc:466] SavedModel load for tags { serve }; Status: success: OK. Took 6455 microseconds.\n",
      "2025-03-12 19:32:58.349787: I tensorflow/compiler/mlir/lite/flatbuffer_export.cc:3893] Estimated count of arithmetic ops: 381  ops, equivalently 190  MACs\n"
     ]
    }
   ],
   "source": [
    "converter = tf.lite.TFLiteConverter.from_saved_model(saved_model_dir)\n",
    "tflite_model = converter.convert()\n",
    "\n",
    "with open(\"rep_count_model.tflite\", \"wb\") as f:\n",
    "    f.write(tflite_model)\n"
   ]
  },
  {
   "cell_type": "code",
   "execution_count": 17,
   "id": "644de5f5-9c56-40ab-9cb6-49f310bfb94b",
   "metadata": {},
   "outputs": [
    {
     "name": "stdout",
     "output_type": "stream",
     "text": [
      "Input details: [{'name': 'serving_default_inputs:0', 'index': 0, 'shape': array([128,   3], dtype=int32), 'shape_signature': array([128,   3], dtype=int32), 'dtype': <class 'numpy.float32'>, 'quantization': (0.0, 0), 'quantization_parameters': {'scales': array([], dtype=float32), 'zero_points': array([], dtype=int32), 'quantized_dimension': 0}, 'sparsity_parameters': {}}]\n",
      "Output details: [{'name': 'PartitionedCall:0', 'index': 29, 'shape': array([3], dtype=int32), 'shape_signature': array([3], dtype=int32), 'dtype': <class 'numpy.float32'>, 'quantization': (0.0, 0), 'quantization_parameters': {'scales': array([], dtype=float32), 'zero_points': array([], dtype=int32), 'quantized_dimension': 0}, 'sparsity_parameters': {}}]\n"
     ]
    }
   ],
   "source": [
    "interpreter = tf.lite.Interpreter(model_path=\"rep_count_model.tflite\")\n",
    "interpreter.allocate_tensors()\n",
    "\n",
    "\n",
    "input_details = interpreter.get_input_details()\n",
    "output_details = interpreter.get_output_details()\n",
    "\n",
    "print(\"Input details:\", input_details)\n",
    "print(\"Output details:\", output_details)\n",
    "\n",
    "input_shape = input_details[0]['shape']"
   ]
  },
  {
   "cell_type": "code",
   "execution_count": 18,
   "id": "261d15b6-05f2-4103-b524-f9f2520bba80",
   "metadata": {},
   "outputs": [
    {
     "data": {
      "text/plain": [
       "TensorShape([10, 128, 3])"
      ]
     },
     "execution_count": 18,
     "metadata": {},
     "output_type": "execute_result"
    }
   ],
   "source": [
    "dummy_input.shape"
   ]
  },
  {
   "cell_type": "code",
   "execution_count": 19,
   "id": "eec4b967-652e-4a1b-b448-c64658e9c64b",
   "metadata": {},
   "outputs": [
    {
     "name": "stdout",
     "output_type": "stream",
     "text": [
      "Model output: [0. 0. 0.]\n"
     ]
    }
   ],
   "source": [
    "interpreter.set_tensor(input_details[0]['index'], dummy_input[0])\n",
    "interpreter.invoke()\n",
    "output_data = interpreter.get_tensor(output_details[0]['index'])\n",
    "print(\"Model output:\", output_data)\n"
   ]
  },
  {
   "cell_type": "code",
   "execution_count": 24,
   "id": "28a4faa2-a4e2-49a6-86d8-e19d100ed3b5",
   "metadata": {},
   "outputs": [
    {
     "name": "stdout",
     "output_type": "stream",
     "text": [
      "Model output: [0. 0. 0.]\n",
      "Model output: [0. 0. 0.]\n",
      "Model output: [0. 1. 1.]\n",
      "Model output: [0. 1. 1.]\n",
      "Model output: [0. 1. 0.]\n",
      "Model output: [0. 1. 1.]\n",
      "Model output: [0. 1. 1.]\n",
      "Model output: [0. 0. 1.]\n",
      "Model output: [0. 1. 1.]\n",
      "Model output: [1. 1. 0.]\n",
      "[[1. 7. 6.]]\n"
     ]
    }
   ],
   "source": [
    "net = np.zeros((1, 3))\n",
    "for e in dummy_input:\n",
    "    interpreter.set_tensor(input_details[0]['index'], e)\n",
    "    interpreter.invoke()\n",
    "    output_data = interpreter.get_tensor(output_details[0]['index'])\n",
    "    print(\"Model output:\", output_data)\n",
    "    net += output_data\n",
    "    \n",
    "print(net)"
   ]
  },
  {
   "cell_type": "code",
   "execution_count": 27,
   "id": "3ca769d6-cd3d-43a0-8ca7-fa6731fbc9dc",
   "metadata": {},
   "outputs": [
    {
     "data": {
      "text/plain": [
       "<tf.Tensor: shape=(3,), dtype=float32, numpy=array([1., 7., 6.], dtype=float32)>"
      ]
     },
     "execution_count": 27,
     "metadata": {},
     "output_type": "execute_result"
    }
   ],
   "source": [
    "model(np.reshape(dummy_input, (dummy_input.shape[0]*dummy_input.shape[1], 3)))"
   ]
  },
  {
   "cell_type": "code",
   "execution_count": null,
   "id": "0e6dcf61-22e5-4074-9d7a-71f73ec4d0b0",
   "metadata": {},
   "outputs": [],
   "source": []
  },
  {
   "cell_type": "code",
   "execution_count": null,
   "id": "8fe89deb-5059-4e44-b23c-eb12413bfed1",
   "metadata": {},
   "outputs": [],
   "source": []
  }
 ],
 "metadata": {
  "kernelspec": {
   "display_name": "Python 3 (ipykernel)",
   "language": "python",
   "name": "python3"
  },
  "language_info": {
   "codemirror_mode": {
    "name": "ipython",
    "version": 3
   },
   "file_extension": ".py",
   "mimetype": "text/x-python",
   "name": "python",
   "nbconvert_exporter": "python",
   "pygments_lexer": "ipython3",
   "version": "3.9.21"
  }
 },
 "nbformat": 4,
 "nbformat_minor": 5
}
