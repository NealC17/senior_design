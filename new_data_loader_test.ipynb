{
 "cells": [
  {
   "cell_type": "code",
   "execution_count": 1,
   "id": "b3530bd2-6cec-41ea-9612-5d1df66630ba",
   "metadata": {
    "scrolled": true
   },
   "outputs": [
    {
     "name": "stdout",
     "output_type": "stream",
     "text": [
      "['novel', 'bench', '20', '5', 'bad-2024-10-25', '23-24-47.json']\n",
      "['brian', 'bench', '35', '5', '-2024-10-25', '23-19-10.json']\n",
      "['novel', 'squat', '20', '5', '-2024-10-25', '00-49-17.json']\n",
      "['neal', 'bench', '0', '5', '-2024-10-25', '23-34-22.json']\n",
      "['novel', 'squat', '20', '5', '-2024-10-25', '00-50-36.json']\n",
      "['neal', 'deadlift', '25', '5', '-2024-10-25', '23-50-52.json']\n",
      "['novel', 'deadlift', '35', '5', '-2024-10-25', '00-11-12.json']\n",
      "['brian', 'deadlift', '60', '5', '-2024-10-25', '23-48-04.json']\n",
      "['novel', 'deadlift', '35', '5', '-2024-10-25', '00-12-44.json']\n",
      "['brian', 'bench', '45', '5', '-2024-10-25', '23-39-37.json']\n",
      "['brian', 'squat', '35', '5', '-2024-10-25', '00-22-02.json']\n",
      "['novel', 'deadlift', '25', '5', '-2024-10-25', '00-09-36.json']\n",
      "['novel', 'deadlift', '40', '5', '-2024-10-25', '00-14-48.json']\n",
      "['brian', 'deadlift', '35', '5', '-2024-10-25', '23-43-11.json']\n",
      "['neal', 'bench', '10', '5', '-2024-10-25', '23-34-56.json']\n",
      "['neal', 'squat', '15', '4', '-2024-10-25', '00-39-37.json']\n",
      "['novel', 'bench', '15', '5', '-2024-10-25', '23-28-15.json']\n",
      "['brian', 'squat', '25', '5', '-2024-10-25', '00-21-04.json']\n",
      "['neal', 'deadlift', '35', '5', '-2024-10-25', '23-59-23.json']\n",
      "['brian', 'bench', '15', '5', '-2024-10-25', '23-20-09.json']\n",
      "['novel', 'bench', '15', '5', '-2024-10-25', '23-22-28.json']\n",
      "['novel', 'squat', '0', '5', '-2024-10-25', '00-47-41.json']\n",
      "['brian', 'deadlift', '25', '5', '-2024-10-25', '23-41-43.json']\n",
      "['novel', 'bench', '20', '5', '-2024-10-25', '23-26-27.json']\n",
      "['neal', 'bench', '15', '5', '-2024-10-25', '23-37-06.json']\n",
      "['novel', 'squat', '30', '5', '-2024-10-25', '00-54-13.json']\n",
      "['neal', 'squat', '10', '5', '-2024-10-25', '00-44-26.json']\n",
      "['brian', 'bench', '20', '5', '-2024-10-25', '23-17-54.json']\n",
      "['neal', 'deadlift', '25', '5', '-2024-10-25', '23-56-15.json']\n",
      "['brian', 'squat', '0', '5', '-2024-10-25', '00-18-57.json']\n",
      "['brian', 'squat', '45', '5', '-2024-10-25', '00-23-38.json']\n",
      "['neal', 'squat', '10', '5', '-2024-10-25', '00-35-26.json']\n",
      "['brian', 'bench', '25', '5', '-2024-10-25', '23-16-23.json']\n",
      "['neal', 'squat', '10', '5', '-2024-10-25', '00-33-54.json']\n",
      "['brian', 'deadlift', '45', '5', '-2024-10-25', '23-45-17.json']\n"
     ]
    },
    {
     "ename": "TypeError",
     "evalue": "'function' object is not subscriptable",
     "output_type": "error",
     "traceback": [
      "\u001b[31m---------------------------------------------------------------------------\u001b[39m",
      "\u001b[31mTypeError\u001b[39m                                 Traceback (most recent call last)",
      "\u001b[36mCell\u001b[39m\u001b[36m \u001b[39m\u001b[32mIn[1]\u001b[39m\u001b[32m, line 2\u001b[39m\n\u001b[32m      1\u001b[39m \u001b[38;5;28;01mimport\u001b[39;00m\u001b[38;5;250m \u001b[39m\u001b[34;01mpandas\u001b[39;00m\u001b[38;5;250m \u001b[39m\u001b[38;5;28;01mas\u001b[39;00m\u001b[38;5;250m \u001b[39m\u001b[34;01mpd\u001b[39;00m\n\u001b[32m----> \u001b[39m\u001b[32m2\u001b[39m \u001b[38;5;28;01mfrom\u001b[39;00m\u001b[38;5;250m \u001b[39m\u001b[34;01mnew_data_loader\u001b[39;00m\u001b[38;5;250m \u001b[39m\u001b[38;5;28;01mimport\u001b[39;00m combined_df, bench, squat, deadlift\n\u001b[32m      3\u001b[39m \u001b[38;5;28;01mimport\u001b[39;00m\u001b[38;5;250m \u001b[39m\u001b[34;01mnumpy\u001b[39;00m\u001b[38;5;250m \u001b[39m\u001b[38;5;28;01mas\u001b[39;00m\u001b[38;5;250m \u001b[39m\u001b[34;01mnp\u001b[39;00m\n\u001b[32m      4\u001b[39m \u001b[38;5;28;01mimport\u001b[39;00m\u001b[38;5;250m \u001b[39m\u001b[34;01msklearn\u001b[39;00m\n",
      "\u001b[36mFile \u001b[39m\u001b[32m~/Documents/python_projects/senior_design/new_data_loader.py:36\u001b[39m\n\u001b[32m     32\u001b[39m     temp = [(temp.loc[\u001b[38;5;28mslice\u001b[39m(\u001b[38;5;28;01mNone\u001b[39;00m), \u001b[38;5;28mslice\u001b[39m(\u001b[38;5;28;01mNone\u001b[39;00m), \u001b[38;5;28mstr\u001b[39m(i)]) \u001b[38;5;28;01mfor\u001b[39;00m i \u001b[38;5;129;01min\u001b[39;00m nums]\n\u001b[32m     33\u001b[39m     \u001b[38;5;28;01mreturn\u001b[39;00m temp\n\u001b[32m---> \u001b[39m\u001b[32m36\u001b[39m bench = \u001b[43mget_list\u001b[49m\u001b[43m[\u001b[49m\u001b[33;43m'\u001b[39;49m\u001b[33;43mbench\u001b[39;49m\u001b[33;43m'\u001b[39;49m\u001b[43m]\u001b[49m\n\u001b[32m     37\u001b[39m squat = get_list[\u001b[33m'\u001b[39m\u001b[33msquat\u001b[39m\u001b[33m'\u001b[39m]\n\u001b[32m     38\u001b[39m deadlift = get_list[\u001b[33m'\u001b[39m\u001b[33mdeadlift\u001b[39m\u001b[33m'\u001b[39m]\n",
      "\u001b[31mTypeError\u001b[39m: 'function' object is not subscriptable"
     ]
    }
   ],
   "source": [
    "import pandas as pd\n",
    "from new_data_loader import combined_df, bench, squat, deadlift\n",
    "import numpy as np\n",
    "import sklearn\n"
   ]
  },
  {
   "cell_type": "code",
   "execution_count": null,
   "id": "09a38356-c24b-4843-812e-104e60917f9f",
   "metadata": {},
   "outputs": [],
   "source": [
    "combined_df.loc['novel', 'bench', '20', '0']['gravityX']"
   ]
  },
  {
   "cell_type": "code",
   "execution_count": null,
   "id": "d160184f-64aa-476a-9fef-a9ba1dfe47bd",
   "metadata": {},
   "outputs": [],
   "source": [
    "result = combined_df.loc[('novel', 'bench', slice(None))]\n",
    "type(result)\n"
   ]
  },
  {
   "cell_type": "code",
   "execution_count": null,
   "id": "151f20ce-6a2f-4ce7-ae3e-c685a8bd8416",
   "metadata": {},
   "outputs": [],
   "source": [
    "result"
   ]
  },
  {
   "cell_type": "code",
   "execution_count": null,
   "id": "ae0b04ee-ca06-42de-ac74-9e2ed03900ba",
   "metadata": {},
   "outputs": [],
   "source": [
    "combined_df"
   ]
  },
  {
   "cell_type": "code",
   "execution_count": 27,
   "id": "0293604c-a351-4f90-b588-31d220a57dc6",
   "metadata": {},
   "outputs": [
    {
     "data": {
      "text/plain": [
       "name   workout  weight  num\n",
       "novel  bench    20      0           NaN\n",
       "                        0           NaN\n",
       "                        0           NaN\n",
       "                        0           NaN\n",
       "                        0           NaN\n",
       "                                 ...   \n",
       "brian  bench    25      32    -0.977153\n",
       "                        32    -0.976755\n",
       "                        32    -0.976312\n",
       "                        32    -0.975856\n",
       "                        32    -0.975388\n",
       "Name: gravityX, Length: 12816, dtype: float64"
      ]
     },
     "execution_count": 27,
     "metadata": {},
     "output_type": "execute_result"
    }
   ],
   "source": [
    "combined_df.loc[['novel', 'brian'], 'bench', :, :]['gravityX']"
   ]
  },
  {
   "cell_type": "code",
   "execution_count": 28,
   "id": "20d6c118-32ce-492c-86b6-aa2ea827554e",
   "metadata": {},
   "outputs": [
    {
     "data": {
      "text/plain": [
       "num\n",
       "0          NaN\n",
       "0          NaN\n",
       "0          NaN\n",
       "0          NaN\n",
       "0          NaN\n",
       "        ...   \n",
       "23   -0.975685\n",
       "23   -0.975654\n",
       "23   -0.976054\n",
       "23   -0.976591\n",
       "23   -0.976918\n",
       "Name: gravityX, Length: 3061, dtype: float64"
      ]
     },
     "execution_count": 28,
     "metadata": {},
     "output_type": "execute_result"
    }
   ],
   "source": [
    "combined_df.loc['novel', 'bench', '20', :]['gravityX']"
   ]
  },
  {
   "cell_type": "code",
   "execution_count": 30,
   "id": "96092b23-c52f-4325-b7ca-d7c7ec3fc14e",
   "metadata": {},
   "outputs": [
    {
     "data": {
      "text/plain": [
       "{'0', '23'}"
      ]
     },
     "execution_count": 30,
     "metadata": {},
     "output_type": "execute_result"
    }
   ],
   "source": [
    "set(list(num_values))"
   ]
  },
  {
   "cell_type": "code",
   "execution_count": 31,
   "id": "f21c8a52-fe4e-4c70-98de-ce41a03f9229",
   "metadata": {},
   "outputs": [],
   "source": [
    "def plot(result_df, names, weights, n_rows, n_cols, name, labels):\n",
    "\n",
    "    brian_bench_sets = result_df.loc[idx, :]\n",
    "    unique_sets = result_df.index.get_level_values('set_number').unique()\n",
    "    \n",
    "    set_dfs = {set_num: result_df.xs(set_num, level='set_number') for set_num in unique_sets}\n",
    "    \n",
    "    unique_set_numbers = brian_bench_sets.index.get_level_values('set_number').unique()\n",
    "    \n",
    "    set_dfs = {set_num: brian_bench_sets.xs(set_num, level='set_number') for set_num in unique_set_numbers}\n",
    "    print(set_dfs.keys())\n",
    "    fig = make_subplots(rows=n_rows, cols=n_cols)\n",
    "    \n",
    "    for i in range(n_rows*n_cols):\n",
    "        l = [set_dfs[i][e] for e in labels]\n",
    "        x = list(range(len(l[0])))\n",
    "    \n",
    "        for j, e in enumerate(l):  # Use enumerate to get the index `j`\n",
    "            fig.add_trace(\n",
    "                go.Scatter(x=x, y=e, name=labels[j] + f' set {i}'),  # Access the label with `j`\n",
    "                row=i // n_cols + 1, col=i % n_cols + 1\n",
    "            )\n",
    "    \n",
    "    fig.update_layout(height=900, width=1000, title_text=name)\n",
    "    fig.show()\n"
   ]
  },
  {
   "cell_type": "code",
   "execution_count": 102,
   "id": "d626193d-c6e8-4a73-a22b-d993364c38c3",
   "metadata": {},
   "outputs": [],
   "source": []
  },
  {
   "cell_type": "code",
   "execution_count": null,
   "id": "10ee79a4-6a15-4278-a837-3318e2e97a95",
   "metadata": {
    "scrolled": true
   },
   "outputs": [],
   "source": []
  },
  {
   "cell_type": "code",
   "execution_count": null,
   "id": "c31ddcf6-9f5e-4e29-8b26-46c4c71b0e38",
   "metadata": {},
   "outputs": [],
   "source": []
  },
  {
   "cell_type": "code",
   "execution_count": null,
   "id": "e4c1b45d-edbf-48c8-9de4-76a57cf010de",
   "metadata": {},
   "outputs": [],
   "source": []
  },
  {
   "cell_type": "code",
   "execution_count": null,
   "id": "efde76a6-1d2d-4ed8-932c-810587a7918d",
   "metadata": {},
   "outputs": [],
   "source": []
  }
 ],
 "metadata": {
  "kernelspec": {
   "display_name": "Python 3 (ipykernel)",
   "language": "python",
   "name": "python3"
  },
  "language_info": {
   "codemirror_mode": {
    "name": "ipython",
    "version": 3
   },
   "file_extension": ".py",
   "mimetype": "text/x-python",
   "name": "python",
   "nbconvert_exporter": "python",
   "pygments_lexer": "ipython3",
   "version": "3.9.21"
  }
 },
 "nbformat": 4,
 "nbformat_minor": 5
}
