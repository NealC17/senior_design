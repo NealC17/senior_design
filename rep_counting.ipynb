{
 "cells": [
  {
   "cell_type": "code",
   "execution_count": 17,
   "id": "17dbdf01-54ea-4329-b7b8-c6539340d640",
   "metadata": {},
   "outputs": [],
   "source": [
    "import numpy as np \n",
    "import pandas as pd \n",
    "\n",
    "def count_reps(count):\n",
    "    count = count.dropna()\n",
    "    count = count.to_numpy()\n",
    "    count -= np.mean(count)\n",
    "    t = (np.where(count > 0, 0, 1))\n",
    "    b = t[1:] - t[:-1]\n",
    "    return np.sum(b[b==1])\n",
    "\n",
    "def count_reps_2(tens):\n",
    "    tens -= np.mean(tens, axis=0)\n",
    "    t = (np.where(tens > 0, 0, 1))\n",
    "    b = t[1:] - t[:-1]\n",
    "    b = b[np.any(b, 1)]\n",
    "    b[b==-1] = 0\n",
    "    return np.sum(b, axis=0)"
   ]
  },
  {
   "cell_type": "code",
   "execution_count": 18,
   "id": "73baf81f-c8eb-4633-a07f-616c17ced58a",
   "metadata": {
    "scrolled": true
   },
   "outputs": [
    {
     "ename": "ValueError",
     "evalue": "No objects to concatenate",
     "output_type": "error",
     "traceback": [
      "\u001b[31m---------------------------------------------------------------------------\u001b[39m",
      "\u001b[31mValueError\u001b[39m                                Traceback (most recent call last)",
      "\u001b[36mCell\u001b[39m\u001b[36m \u001b[39m\u001b[32mIn[18]\u001b[39m\u001b[32m, line 1\u001b[39m\n\u001b[32m----> \u001b[39m\u001b[32m1\u001b[39m \u001b[38;5;28;01mfrom\u001b[39;00m\u001b[38;5;250m \u001b[39m\u001b[34;01mnew_data_loader\u001b[39;00m\u001b[38;5;250m \u001b[39m\u001b[38;5;28;01mimport\u001b[39;00m bench, squat, deadlift\n",
      "\u001b[36mFile \u001b[39m\u001b[32m~/Documents/python_projects/senior_design/legacy/new_data_loader.py:26\u001b[39m\n\u001b[32m     21\u001b[39m             c+=\u001b[32m1\u001b[39m\n\u001b[32m     23\u001b[39m             dfs.append(df)\n\u001b[32m---> \u001b[39m\u001b[32m26\u001b[39m combined_df = \u001b[43mpd\u001b[49m\u001b[43m.\u001b[49m\u001b[43mconcat\u001b[49m\u001b[43m(\u001b[49m\u001b[43mdfs\u001b[49m\u001b[43m,\u001b[49m\u001b[43m \u001b[49m\u001b[43mignore_index\u001b[49m\u001b[43m=\u001b[49m\u001b[38;5;28;43;01mFalse\u001b[39;49;00m\u001b[43m)\u001b[49m\n\u001b[32m     27\u001b[39m combined_df.set_index([\u001b[33m'\u001b[39m\u001b[33mname\u001b[39m\u001b[33m'\u001b[39m, \u001b[33m'\u001b[39m\u001b[33mworkout\u001b[39m\u001b[33m'\u001b[39m, \u001b[33m'\u001b[39m\u001b[33mweight\u001b[39m\u001b[33m'\u001b[39m, \u001b[33m'\u001b[39m\u001b[33mnum\u001b[39m\u001b[33m'\u001b[39m], inplace=\u001b[38;5;28;01mTrue\u001b[39;00m)\n",
      "\u001b[36mFile \u001b[39m\u001b[32m/opt/homebrew/Caskroom/miniconda/base/lib/python3.12/site-packages/pandas/core/reshape/concat.py:382\u001b[39m, in \u001b[36mconcat\u001b[39m\u001b[34m(objs, axis, join, ignore_index, keys, levels, names, verify_integrity, sort, copy)\u001b[39m\n\u001b[32m    379\u001b[39m \u001b[38;5;28;01melif\u001b[39;00m copy \u001b[38;5;129;01mand\u001b[39;00m using_copy_on_write():\n\u001b[32m    380\u001b[39m     copy = \u001b[38;5;28;01mFalse\u001b[39;00m\n\u001b[32m--> \u001b[39m\u001b[32m382\u001b[39m op = \u001b[43m_Concatenator\u001b[49m\u001b[43m(\u001b[49m\n\u001b[32m    383\u001b[39m \u001b[43m    \u001b[49m\u001b[43mobjs\u001b[49m\u001b[43m,\u001b[49m\n\u001b[32m    384\u001b[39m \u001b[43m    \u001b[49m\u001b[43maxis\u001b[49m\u001b[43m=\u001b[49m\u001b[43maxis\u001b[49m\u001b[43m,\u001b[49m\n\u001b[32m    385\u001b[39m \u001b[43m    \u001b[49m\u001b[43mignore_index\u001b[49m\u001b[43m=\u001b[49m\u001b[43mignore_index\u001b[49m\u001b[43m,\u001b[49m\n\u001b[32m    386\u001b[39m \u001b[43m    \u001b[49m\u001b[43mjoin\u001b[49m\u001b[43m=\u001b[49m\u001b[43mjoin\u001b[49m\u001b[43m,\u001b[49m\n\u001b[32m    387\u001b[39m \u001b[43m    \u001b[49m\u001b[43mkeys\u001b[49m\u001b[43m=\u001b[49m\u001b[43mkeys\u001b[49m\u001b[43m,\u001b[49m\n\u001b[32m    388\u001b[39m \u001b[43m    \u001b[49m\u001b[43mlevels\u001b[49m\u001b[43m=\u001b[49m\u001b[43mlevels\u001b[49m\u001b[43m,\u001b[49m\n\u001b[32m    389\u001b[39m \u001b[43m    \u001b[49m\u001b[43mnames\u001b[49m\u001b[43m=\u001b[49m\u001b[43mnames\u001b[49m\u001b[43m,\u001b[49m\n\u001b[32m    390\u001b[39m \u001b[43m    \u001b[49m\u001b[43mverify_integrity\u001b[49m\u001b[43m=\u001b[49m\u001b[43mverify_integrity\u001b[49m\u001b[43m,\u001b[49m\n\u001b[32m    391\u001b[39m \u001b[43m    \u001b[49m\u001b[43mcopy\u001b[49m\u001b[43m=\u001b[49m\u001b[43mcopy\u001b[49m\u001b[43m,\u001b[49m\n\u001b[32m    392\u001b[39m \u001b[43m    \u001b[49m\u001b[43msort\u001b[49m\u001b[43m=\u001b[49m\u001b[43msort\u001b[49m\u001b[43m,\u001b[49m\n\u001b[32m    393\u001b[39m \u001b[43m\u001b[49m\u001b[43m)\u001b[49m\n\u001b[32m    395\u001b[39m \u001b[38;5;28;01mreturn\u001b[39;00m op.get_result()\n",
      "\u001b[36mFile \u001b[39m\u001b[32m/opt/homebrew/Caskroom/miniconda/base/lib/python3.12/site-packages/pandas/core/reshape/concat.py:445\u001b[39m, in \u001b[36m_Concatenator.__init__\u001b[39m\u001b[34m(self, objs, axis, join, keys, levels, names, ignore_index, verify_integrity, copy, sort)\u001b[39m\n\u001b[32m    442\u001b[39m \u001b[38;5;28mself\u001b[39m.verify_integrity = verify_integrity\n\u001b[32m    443\u001b[39m \u001b[38;5;28mself\u001b[39m.copy = copy\n\u001b[32m--> \u001b[39m\u001b[32m445\u001b[39m objs, keys = \u001b[38;5;28;43mself\u001b[39;49m\u001b[43m.\u001b[49m\u001b[43m_clean_keys_and_objs\u001b[49m\u001b[43m(\u001b[49m\u001b[43mobjs\u001b[49m\u001b[43m,\u001b[49m\u001b[43m \u001b[49m\u001b[43mkeys\u001b[49m\u001b[43m)\u001b[49m\n\u001b[32m    447\u001b[39m \u001b[38;5;66;03m# figure out what our result ndim is going to be\u001b[39;00m\n\u001b[32m    448\u001b[39m ndims = \u001b[38;5;28mself\u001b[39m._get_ndims(objs)\n",
      "\u001b[36mFile \u001b[39m\u001b[32m/opt/homebrew/Caskroom/miniconda/base/lib/python3.12/site-packages/pandas/core/reshape/concat.py:507\u001b[39m, in \u001b[36m_Concatenator._clean_keys_and_objs\u001b[39m\u001b[34m(self, objs, keys)\u001b[39m\n\u001b[32m    504\u001b[39m     objs_list = \u001b[38;5;28mlist\u001b[39m(objs)\n\u001b[32m    506\u001b[39m \u001b[38;5;28;01mif\u001b[39;00m \u001b[38;5;28mlen\u001b[39m(objs_list) == \u001b[32m0\u001b[39m:\n\u001b[32m--> \u001b[39m\u001b[32m507\u001b[39m     \u001b[38;5;28;01mraise\u001b[39;00m \u001b[38;5;167;01mValueError\u001b[39;00m(\u001b[33m\"\u001b[39m\u001b[33mNo objects to concatenate\u001b[39m\u001b[33m\"\u001b[39m)\n\u001b[32m    509\u001b[39m \u001b[38;5;28;01mif\u001b[39;00m keys \u001b[38;5;129;01mis\u001b[39;00m \u001b[38;5;28;01mNone\u001b[39;00m:\n\u001b[32m    510\u001b[39m     objs_list = \u001b[38;5;28mlist\u001b[39m(com.not_none(*objs_list))\n",
      "\u001b[31mValueError\u001b[39m: No objects to concatenate"
     ]
    }
   ],
   "source": [
    "from new_data_loader import bench, squat, deadlift"
   ]
  },
  {
   "cell_type": "code",
   "execution_count": 3,
   "id": "e9c1ddbc-e9c9-41b5-a8ec-7b158d269ace",
   "metadata": {},
   "outputs": [
    {
     "ename": "NameError",
     "evalue": "name 'deadlift' is not defined",
     "output_type": "error",
     "traceback": [
      "\u001b[31m---------------------------------------------------------------------------\u001b[39m",
      "\u001b[31mNameError\u001b[39m                                 Traceback (most recent call last)",
      "\u001b[36mCell\u001b[39m\u001b[36m \u001b[39m\u001b[32mIn[3]\u001b[39m\u001b[32m, line 5\u001b[39m\n\u001b[32m      2\u001b[39m \u001b[38;5;28;01mimport\u001b[39;00m\u001b[38;5;250m \u001b[39m\u001b[34;01mplotly\u001b[39;00m\u001b[34;01m.\u001b[39;00m\u001b[34;01mgraph_objects\u001b[39;00m\u001b[38;5;250m \u001b[39m\u001b[38;5;28;01mas\u001b[39;00m\u001b[38;5;250m \u001b[39m\u001b[34;01mgo\u001b[39;00m\n\u001b[32m      3\u001b[39m \u001b[38;5;28;01mimport\u001b[39;00m\u001b[38;5;250m \u001b[39m\u001b[34;01mnumpy\u001b[39;00m\u001b[38;5;250m \u001b[39m\u001b[38;5;28;01mas\u001b[39;00m\u001b[38;5;250m \u001b[39m\u001b[34;01mnp\u001b[39;00m\n\u001b[32m----> \u001b[39m\u001b[32m5\u001b[39m df = \u001b[43mdeadlift\u001b[49m[-\u001b[32m1\u001b[39m]\n\u001b[32m      7\u001b[39m \u001b[38;5;28;01mdef\u001b[39;00m\u001b[38;5;250m \u001b[39m\u001b[34manalyze_centered_signals\u001b[39m(rep_df, title): \n\u001b[32m      8\u001b[39m     fig = go.Figure()\n",
      "\u001b[31mNameError\u001b[39m: name 'deadlift' is not defined"
     ]
    }
   ],
   "source": [
    "from plotly.subplots import make_subplots\n",
    "import plotly.graph_objects as go\n",
    "import numpy as np\n",
    "\n",
    "df = deadlift[-1]\n",
    "\n",
    "def analyze_centered_signals(rep_df, title): \n",
    "    fig = go.Figure()\n",
    "    print(rep_df[['gravityX', 'gravityY', 'gravityZ']])\n",
    "    a = rep_df['gravityX']\n",
    "    a -= np.mean(a)\n",
    "    \n",
    "    b = rep_df['gravityY'] \n",
    "    b -= np.mean(b)\n",
    "    \n",
    "    c = rep_df['gravityZ'] \n",
    "    c -= np.mean(c)\n",
    "    \n",
    "    fig.add_trace(\n",
    "        go.Scatter(x=list(range(len(a))), y=a, name=\"gravityX\")\n",
    "    )\n",
    "    fig.add_trace(\n",
    "        go.Scatter(x=list(range(len(b))), y=b, name=\"gravityY\")\n",
    "    )\n",
    "    fig.add_trace(\n",
    "        go.Scatter(x=list(range(len(c))), y=c, name=\"gravityZ\")\n",
    "    )\n",
    "    \n",
    "    fig.update_layout(\n",
    "        height=600, \n",
    "        title=\"Gravity Signals Over Time\",\n",
    "        xaxis_title=\"Time Steps\",\n",
    "        yaxis_title=title,\n",
    "        hovermode=\"x unified\", \n",
    "        legend=dict(\n",
    "            title=\"Legend\",  \n",
    "            x=1,  \n",
    "            y=1,  \n",
    "            bordercolor=\"Black\",  \n",
    "            borderwidth=1  \n",
    "        )\n",
    "    )\n",
    "    \n",
    "    fig.show()\n",
    "    \n",
    "    print(count_reps(a), count_reps(b), count_reps(c))\n"
   ]
  },
  {
   "cell_type": "code",
   "execution_count": 4,
   "id": "60541330-5b21-40fe-a2f2-20d0f7b532c6",
   "metadata": {},
   "outputs": [
    {
     "ename": "NameError",
     "evalue": "name 'analyze_centered_signals' is not defined",
     "output_type": "error",
     "traceback": [
      "\u001b[31m---------------------------------------------------------------------------\u001b[39m",
      "\u001b[31mNameError\u001b[39m                                 Traceback (most recent call last)",
      "\u001b[36mCell\u001b[39m\u001b[36m \u001b[39m\u001b[32mIn[4]\u001b[39m\u001b[32m, line 1\u001b[39m\n\u001b[32m----> \u001b[39m\u001b[32m1\u001b[39m \u001b[43manalyze_centered_signals\u001b[49m(squat[-\u001b[32m1\u001b[39m], \u001b[33m\"\u001b[39m\u001b[33mcentered gravity signals\u001b[39m\u001b[33m\"\u001b[39m)\n",
      "\u001b[31mNameError\u001b[39m: name 'analyze_centered_signals' is not defined"
     ]
    }
   ],
   "source": [
    "analyze_centered_signals(squat[-1], \"centered gravity signals\")"
   ]
  },
  {
   "cell_type": "code",
   "execution_count": 5,
   "id": "67e91ede-0a01-4cce-9888-44f01cf6b50a",
   "metadata": {},
   "outputs": [
    {
     "ename": "NameError",
     "evalue": "name 'analyze_centered_signals' is not defined",
     "output_type": "error",
     "traceback": [
      "\u001b[31m---------------------------------------------------------------------------\u001b[39m",
      "\u001b[31mNameError\u001b[39m                                 Traceback (most recent call last)",
      "\u001b[36mCell\u001b[39m\u001b[36m \u001b[39m\u001b[32mIn[5]\u001b[39m\u001b[32m, line 1\u001b[39m\n\u001b[32m----> \u001b[39m\u001b[32m1\u001b[39m \u001b[43manalyze_centered_signals\u001b[49m(squat[\u001b[32m2\u001b[39m], \u001b[33m\"\u001b[39m\u001b[33mcentered gravity signals\u001b[39m\u001b[33m\"\u001b[39m)\n",
      "\u001b[31mNameError\u001b[39m: name 'analyze_centered_signals' is not defined"
     ]
    }
   ],
   "source": [
    "analyze_centered_signals(squat[2], \"centered gravity signals\")"
   ]
  },
  {
   "cell_type": "code",
   "execution_count": 6,
   "id": "5b7fd9a2-8140-47d2-9b66-a7a4116532c2",
   "metadata": {},
   "outputs": [
    {
     "ename": "NameError",
     "evalue": "name 'analyze_centered_signals' is not defined",
     "output_type": "error",
     "traceback": [
      "\u001b[31m---------------------------------------------------------------------------\u001b[39m",
      "\u001b[31mNameError\u001b[39m                                 Traceback (most recent call last)",
      "\u001b[36mCell\u001b[39m\u001b[36m \u001b[39m\u001b[32mIn[6]\u001b[39m\u001b[32m, line 1\u001b[39m\n\u001b[32m----> \u001b[39m\u001b[32m1\u001b[39m \u001b[43manalyze_centered_signals\u001b[49m(squat[\u001b[32m2\u001b[39m], \u001b[33m\"\u001b[39m\u001b[33mcentered gravity signals\u001b[39m\u001b[33m\"\u001b[39m)\n",
      "\u001b[31mNameError\u001b[39m: name 'analyze_centered_signals' is not defined"
     ]
    }
   ],
   "source": [
    "analyze_centered_signals(squat[2], \"centered gravity signals\")"
   ]
  },
  {
   "cell_type": "code",
   "execution_count": 7,
   "id": "3fdd4477-2258-4b79-9a83-2d07a2c25903",
   "metadata": {},
   "outputs": [],
   "source": [
    "#keep in mind datatype \n",
    "#"
   ]
  },
  {
   "cell_type": "code",
   "execution_count": 8,
   "id": "9e8c6d0b-21b8-4bed-83aa-3ebfa9551677",
   "metadata": {},
   "outputs": [
    {
     "ename": "NameError",
     "evalue": "name 'squat' is not defined",
     "output_type": "error",
     "traceback": [
      "\u001b[31m---------------------------------------------------------------------------\u001b[39m",
      "\u001b[31mNameError\u001b[39m                                 Traceback (most recent call last)",
      "\u001b[36mCell\u001b[39m\u001b[36m \u001b[39m\u001b[32mIn[8]\u001b[39m\u001b[32m, line 1\u001b[39m\n\u001b[32m----> \u001b[39m\u001b[32m1\u001b[39m np.nan_to_num(\u001b[43msquat\u001b[49m[-\u001b[32m1\u001b[39m][[\u001b[33m'\u001b[39m\u001b[33mgravityX\u001b[39m\u001b[33m'\u001b[39m, \u001b[33m'\u001b[39m\u001b[33mgravityY\u001b[39m\u001b[33m'\u001b[39m, \u001b[33m'\u001b[39m\u001b[33mgravityZ\u001b[39m\u001b[33m'\u001b[39m]].to_numpy(), \u001b[32m0\u001b[39m)\n",
      "\u001b[31mNameError\u001b[39m: name 'squat' is not defined"
     ]
    }
   ],
   "source": [
    "np.nan_to_num(squat[-1][['gravityX', 'gravityY', 'gravityZ']].to_numpy(), 0)"
   ]
  },
  {
   "cell_type": "code",
   "execution_count": 9,
   "id": "ba32e9d6-13ee-4189-bf98-0f42fd904fa1",
   "metadata": {},
   "outputs": [
    {
     "ename": "NameError",
     "evalue": "name 'squat' is not defined",
     "output_type": "error",
     "traceback": [
      "\u001b[31m---------------------------------------------------------------------------\u001b[39m",
      "\u001b[31mNameError\u001b[39m                                 Traceback (most recent call last)",
      "\u001b[36mCell\u001b[39m\u001b[36m \u001b[39m\u001b[32mIn[9]\u001b[39m\u001b[32m, line 1\u001b[39m\n\u001b[32m----> \u001b[39m\u001b[32m1\u001b[39m (\u001b[43msquat\u001b[49m[-\u001b[32m1\u001b[39m][[\u001b[33m'\u001b[39m\u001b[33mgravityX\u001b[39m\u001b[33m'\u001b[39m, \u001b[33m'\u001b[39m\u001b[33mgravityY\u001b[39m\u001b[33m'\u001b[39m, \u001b[33m'\u001b[39m\u001b[33mgravityZ\u001b[39m\u001b[33m'\u001b[39m]]).dropna()\n",
      "\u001b[31mNameError\u001b[39m: name 'squat' is not defined"
     ]
    }
   ],
   "source": [
    "(squat[-1][['gravityX', 'gravityY', 'gravityZ']]).dropna()"
   ]
  },
  {
   "cell_type": "code",
   "execution_count": 10,
   "id": "90cc8442-3906-47cd-bdb5-3e750a673f84",
   "metadata": {},
   "outputs": [
    {
     "ename": "NameError",
     "evalue": "name 'squat' is not defined",
     "output_type": "error",
     "traceback": [
      "\u001b[31m---------------------------------------------------------------------------\u001b[39m",
      "\u001b[31mNameError\u001b[39m                                 Traceback (most recent call last)",
      "\u001b[36mCell\u001b[39m\u001b[36m \u001b[39m\u001b[32mIn[10]\u001b[39m\u001b[32m, line 1\u001b[39m\n\u001b[32m----> \u001b[39m\u001b[32m1\u001b[39m np.nan_to_num(\u001b[43msquat\u001b[49m[-\u001b[32m1\u001b[39m][[\u001b[33m'\u001b[39m\u001b[33mgravityX\u001b[39m\u001b[33m'\u001b[39m, \u001b[33m'\u001b[39m\u001b[33mgravityY\u001b[39m\u001b[33m'\u001b[39m, \u001b[33m'\u001b[39m\u001b[33mgravityZ\u001b[39m\u001b[33m'\u001b[39m]].to_numpy(), \u001b[32m0\u001b[39m)\n",
      "\u001b[31mNameError\u001b[39m: name 'squat' is not defined"
     ]
    }
   ],
   "source": [
    "np.nan_to_num(squat[-1][['gravityX', 'gravityY', 'gravityZ']].to_numpy(), 0)"
   ]
  },
  {
   "cell_type": "code",
   "execution_count": 11,
   "id": "582cdd0b-3561-4032-a2fd-a30539cc5cec",
   "metadata": {},
   "outputs": [
    {
     "ename": "NameError",
     "evalue": "name 'squat' is not defined",
     "output_type": "error",
     "traceback": [
      "\u001b[31m---------------------------------------------------------------------------\u001b[39m",
      "\u001b[31mNameError\u001b[39m                                 Traceback (most recent call last)",
      "\u001b[36mCell\u001b[39m\u001b[36m \u001b[39m\u001b[32mIn[11]\u001b[39m\u001b[32m, line 1\u001b[39m\n\u001b[32m----> \u001b[39m\u001b[32m1\u001b[39m np.average(np.nan_to_num(\u001b[43msquat\u001b[49m[-\u001b[32m1\u001b[39m][[\u001b[33m'\u001b[39m\u001b[33mgravityX\u001b[39m\u001b[33m'\u001b[39m, \u001b[33m'\u001b[39m\u001b[33mgravityY\u001b[39m\u001b[33m'\u001b[39m, \u001b[33m'\u001b[39m\u001b[33mgravityZ\u001b[39m\u001b[33m'\u001b[39m]].to_numpy(), \u001b[32m0\u001b[39m))\n",
      "\u001b[31mNameError\u001b[39m: name 'squat' is not defined"
     ]
    }
   ],
   "source": [
    "np.average(np.nan_to_num(squat[-1][['gravityX', 'gravityY', 'gravityZ']].to_numpy(), 0))"
   ]
  },
  {
   "cell_type": "code",
   "execution_count": 12,
   "id": "53650c14-8fbd-427e-b58b-0ad0f41aa2ac",
   "metadata": {},
   "outputs": [
    {
     "ename": "NameError",
     "evalue": "name 'squat' is not defined",
     "output_type": "error",
     "traceback": [
      "\u001b[31m---------------------------------------------------------------------------\u001b[39m",
      "\u001b[31mNameError\u001b[39m                                 Traceback (most recent call last)",
      "\u001b[36mCell\u001b[39m\u001b[36m \u001b[39m\u001b[32mIn[12]\u001b[39m\u001b[32m, line 1\u001b[39m\n\u001b[32m----> \u001b[39m\u001b[32m1\u001b[39m np.mean((\u001b[43msquat\u001b[49m[-\u001b[32m1\u001b[39m][[\u001b[33m'\u001b[39m\u001b[33mgravityX\u001b[39m\u001b[33m'\u001b[39m, \u001b[33m'\u001b[39m\u001b[33mgravityY\u001b[39m\u001b[33m'\u001b[39m, \u001b[33m'\u001b[39m\u001b[33mgravityZ\u001b[39m\u001b[33m'\u001b[39m]]).dropna().to_numpy(), axis=\u001b[32m0\u001b[39m)\n",
      "\u001b[31mNameError\u001b[39m: name 'squat' is not defined"
     ]
    }
   ],
   "source": [
    "np.mean((squat[-1][['gravityX', 'gravityY', 'gravityZ']]).dropna().to_numpy(), axis=0)"
   ]
  },
  {
   "cell_type": "code",
   "execution_count": 13,
   "id": "91ecc074-40c0-45b6-a736-3b71a7eaecb8",
   "metadata": {},
   "outputs": [
    {
     "ename": "NameError",
     "evalue": "name 'squat' is not defined",
     "output_type": "error",
     "traceback": [
      "\u001b[31m---------------------------------------------------------------------------\u001b[39m",
      "\u001b[31mNameError\u001b[39m                                 Traceback (most recent call last)",
      "\u001b[36mCell\u001b[39m\u001b[36m \u001b[39m\u001b[32mIn[13]\u001b[39m\u001b[32m, line 1\u001b[39m\n\u001b[32m----> \u001b[39m\u001b[32m1\u001b[39m tens = (\u001b[43msquat\u001b[49m[-\u001b[32m1\u001b[39m][[\u001b[33m'\u001b[39m\u001b[33mgravityX\u001b[39m\u001b[33m'\u001b[39m, \u001b[33m'\u001b[39m\u001b[33mgravityY\u001b[39m\u001b[33m'\u001b[39m, \u001b[33m'\u001b[39m\u001b[33mgravityZ\u001b[39m\u001b[33m'\u001b[39m]]).dropna().to_numpy()\n\u001b[32m      2\u001b[39m tens\n",
      "\u001b[31mNameError\u001b[39m: name 'squat' is not defined"
     ]
    }
   ],
   "source": [
    "tens = (squat[-1][['gravityX', 'gravityY', 'gravityZ']]).dropna().to_numpy()\n",
    "tens"
   ]
  },
  {
   "cell_type": "code",
   "execution_count": 14,
   "id": "9f391e3e-8b33-48e4-b333-9666df04d1b4",
   "metadata": {},
   "outputs": [
    {
     "ename": "NameError",
     "evalue": "name 'tens' is not defined",
     "output_type": "error",
     "traceback": [
      "\u001b[31m---------------------------------------------------------------------------\u001b[39m",
      "\u001b[31mNameError\u001b[39m                                 Traceback (most recent call last)",
      "\u001b[36mCell\u001b[39m\u001b[36m \u001b[39m\u001b[32mIn[14]\u001b[39m\u001b[32m, line 1\u001b[39m\n\u001b[32m----> \u001b[39m\u001b[32m1\u001b[39m \u001b[43mtens\u001b[49m.shape\n",
      "\u001b[31mNameError\u001b[39m: name 'tens' is not defined"
     ]
    }
   ],
   "source": [
    "tens.shape"
   ]
  },
  {
   "cell_type": "code",
   "execution_count": 89,
   "id": "bc45201b-0dbe-4104-a25e-014cc54fbb2d",
   "metadata": {},
   "outputs": [
    {
     "data": {
      "text/plain": [
       "array([6, 1, 4])"
      ]
     },
     "execution_count": 89,
     "metadata": {},
     "output_type": "execute_result"
    }
   ],
   "source": [
    "count_reps_2(tens)"
   ]
  },
  {
   "cell_type": "code",
   "execution_count": 90,
   "id": "c6f74d0e-c610-41b9-b43b-41e0672808cf",
   "metadata": {},
   "outputs": [
    {
     "data": {
      "text/plain": [
       "array([1.81408991e-18, 5.80508771e-18, 0.00000000e+00])"
      ]
     },
     "execution_count": 90,
     "metadata": {},
     "output_type": "execute_result"
    }
   ],
   "source": [
    "np.average(tens, axis=0)"
   ]
  },
  {
   "cell_type": "code",
   "execution_count": 91,
   "id": "28d9c6ce-499a-428b-9b75-551cac7abb2e",
   "metadata": {},
   "outputs": [
    {
     "data": {
      "text/plain": [
       "1.8140899095182297e-18"
      ]
     },
     "execution_count": 91,
     "metadata": {},
     "output_type": "execute_result"
    }
   ],
   "source": [
    "np.average(tens[:, 0])"
   ]
  },
  {
   "cell_type": "code",
   "execution_count": 92,
   "id": "f46565a7-30c1-4714-bde1-88cb41cdf202",
   "metadata": {},
   "outputs": [],
   "source": [
    "tens = (squat[-1][['gravityX', 'gravityY', 'gravityZ']]).dropna().to_numpy()\n",
    "tens -= np.mean(tens, axis=0)\n",
    "t = (np.where(tens > 0, 0, 1))\n",
    "b = t[1:] - t[:-1]\n",
    "b = b[np.any(b, 1)]"
   ]
  },
  {
   "cell_type": "code",
   "execution_count": 93,
   "id": "33d74a6b-70aa-4dad-a261-59565afee0d9",
   "metadata": {},
   "outputs": [
    {
     "data": {
      "text/plain": [
       "array([[ 1,  1,  0],\n",
       "       [ 0,  0,  1],\n",
       "       [-1,  0,  0],\n",
       "       [ 1,  0,  0],\n",
       "       [ 0,  0, -1],\n",
       "       [ 0,  0,  1],\n",
       "       [ 0,  0, -1],\n",
       "       [ 0,  0,  1],\n",
       "       [-1,  0,  0],\n",
       "       [ 1,  0,  0],\n",
       "       [-1,  0,  0],\n",
       "       [ 1,  0,  0],\n",
       "       [-1,  0,  0],\n",
       "       [ 1,  0,  0],\n",
       "       [-1,  0,  0],\n",
       "       [ 1,  0,  0],\n",
       "       [ 0,  0, -1],\n",
       "       [ 0,  0,  1]])"
      ]
     },
     "execution_count": 93,
     "metadata": {},
     "output_type": "execute_result"
    }
   ],
   "source": [
    "b"
   ]
  },
  {
   "cell_type": "code",
   "execution_count": 94,
   "id": "7a971465-d10f-4720-8a0f-0578a893ebfd",
   "metadata": {},
   "outputs": [],
   "source": [
    "\n",
    "b[b==-1] = 0"
   ]
  },
  {
   "cell_type": "code",
   "execution_count": 95,
   "id": "efb4de05-da22-41a8-be1b-ef5587b45c73",
   "metadata": {},
   "outputs": [
    {
     "data": {
      "text/plain": [
       "array([[1, 1, 0],\n",
       "       [0, 0, 1],\n",
       "       [0, 0, 0],\n",
       "       [1, 0, 0],\n",
       "       [0, 0, 0],\n",
       "       [0, 0, 1],\n",
       "       [0, 0, 0],\n",
       "       [0, 0, 1],\n",
       "       [0, 0, 0],\n",
       "       [1, 0, 0],\n",
       "       [0, 0, 0],\n",
       "       [1, 0, 0],\n",
       "       [0, 0, 0],\n",
       "       [1, 0, 0],\n",
       "       [0, 0, 0],\n",
       "       [1, 0, 0],\n",
       "       [0, 0, 0],\n",
       "       [0, 0, 1]])"
      ]
     },
     "execution_count": 95,
     "metadata": {},
     "output_type": "execute_result"
    }
   ],
   "source": [
    "b"
   ]
  },
  {
   "cell_type": "code",
   "execution_count": 96,
   "id": "2a228cf4-6802-4f49-a8b0-8ddf40d3f747",
   "metadata": {},
   "outputs": [],
   "source": [
    "#b[np.any(b, 1)]"
   ]
  },
  {
   "cell_type": "code",
   "execution_count": 97,
   "id": "12412007-d7e5-449d-97c5-1c157f9fa47b",
   "metadata": {},
   "outputs": [
    {
     "data": {
      "text/plain": [
       "array([6, 1, 4])"
      ]
     },
     "execution_count": 97,
     "metadata": {},
     "output_type": "execute_result"
    }
   ],
   "source": [
    "np.sum(b, axis=0)"
   ]
  },
  {
   "cell_type": "code",
   "execution_count": 98,
   "id": "e337bdc9-f7a9-4b27-84ff-464aff773d40",
   "metadata": {},
   "outputs": [
    {
     "data": {
      "text/plain": [
       "array([6, 1, 4])"
      ]
     },
     "execution_count": 98,
     "metadata": {},
     "output_type": "execute_result"
    }
   ],
   "source": [
    "count_reps_2(tens)"
   ]
  },
  {
   "cell_type": "code",
   "execution_count": 99,
   "id": "b5b2b17e-c24b-4746-8077-7d3adce6ba36",
   "metadata": {},
   "outputs": [
    {
     "data": {
      "text/plain": [
       "array([6, 1, 4])"
      ]
     },
     "execution_count": 99,
     "metadata": {},
     "output_type": "execute_result"
    }
   ],
   "source": [
    "tens = (squat[-1][['gravityX', 'gravityY', 'gravityZ']]).dropna().to_numpy()\n",
    "tens -= np.mean(tens, axis=0)\n",
    "t = (np.where(tens > 0, 0, 1))\n",
    "b = t[1:] - t[:-1]\n",
    "b = b[np.any(b, 1)]\n",
    "b[b==-1] = 0\n",
    "np.sum(b, axis=0)"
   ]
  },
  {
   "cell_type": "code",
   "execution_count": 100,
   "id": "f9789ee8-aa68-42c5-8f5e-a3b26c6a6ac6",
   "metadata": {},
   "outputs": [
    {
     "data": {
      "text/plain": [
       "array([6, 1, 4])"
      ]
     },
     "execution_count": 100,
     "metadata": {},
     "output_type": "execute_result"
    }
   ],
   "source": [
    "count_reps_2(tens)"
   ]
  },
  {
   "cell_type": "code",
   "execution_count": null,
   "id": "179f96ee-4b3c-47cd-9a0e-95d1e8269471",
   "metadata": {},
   "outputs": [],
   "source": []
  },
  {
   "cell_type": "code",
   "execution_count": null,
   "id": "7275a06f-44e1-4acc-8176-1bf4fa757c29",
   "metadata": {},
   "outputs": [],
   "source": []
  }
 ],
 "metadata": {
  "kernelspec": {
   "display_name": "Python 3 (ipykernel)",
   "language": "python",
   "name": "python3"
  },
  "language_info": {
   "codemirror_mode": {
    "name": "ipython",
    "version": 3
   },
   "file_extension": ".py",
   "mimetype": "text/x-python",
   "name": "python",
   "nbconvert_exporter": "python",
   "pygments_lexer": "ipython3",
   "version": "3.12.2"
  }
 },
 "nbformat": 4,
 "nbformat_minor": 5
}
